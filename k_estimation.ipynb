{
  "nbformat": 4,
  "nbformat_minor": 0,
  "metadata": {
    "colab": {
      "name": "k estimation.ipynb",
      "provenance": [],
      "collapsed_sections": []
    },
    "kernelspec": {
      "display_name": "Python 3",
      "name": "python3"
    }
  },
  "cells": [
    {
      "cell_type": "code",
      "metadata": {
        "id": "ODyw1N_oDHyS"
      },
      "source": [
        "from scipy.stats import norm\n",
        "import pandas as pd\n",
        "import numpy as np\n",
        "import matplotlib.pyplot as plt\n",
        "from scipy.stats import entropy\n",
        "import math\n",
        "from itertools import *\n",
        "from scipy.special import comb"
      ],
      "execution_count": null,
      "outputs": []
    },
    {
      "cell_type": "code",
      "metadata": {
        "colab": {
          "base_uri": "https://localhost:8080/"
        },
        "id": "KrWDo2Y17W-s",
        "outputId": "58ff434a-5508-4f2f-c4e7-f83e721722f8"
      },
      "source": [
        "norm.cdf((2 * 50 - 1001) / np.sqrt(1001)) + (0.4784 * 0.01) / (0.5 * math.sqrt(1001))"
      ],
      "execution_count": null,
      "outputs": [
        {
          "output_type": "execute_result",
          "data": {
            "text/plain": [
              "0.00030241555652970106"
            ]
          },
          "metadata": {
            "tags": []
          },
          "execution_count": 88
        }
      ]
    },
    {
      "cell_type": "code",
      "metadata": {
        "colab": {
          "base_uri": "https://localhost:8080/"
        },
        "id": "_45KXRMnK4XS",
        "outputId": "e867aa0f-5c0d-4dc1-c1dc-5d15253cb181"
      },
      "source": [
        "norm.cdf((4 * 50 - 2 - 1001) / np.sqrt(1001)) + (0.4784 * 0.125) / (0.25 * np.sqrt(1001))"
      ],
      "execution_count": null,
      "outputs": [
        {
          "output_type": "execute_result",
          "data": {
            "text/plain": [
              "0.007560388913242527"
            ]
          },
          "metadata": {
            "tags": []
          },
          "execution_count": 89
        }
      ]
    },
    {
      "cell_type": "code",
      "metadata": {
        "id": "_aq6LIDeZJRi"
      },
      "source": [
        "def k_estimate(n, epsilon):\n",
        "  lower = (np.log2(norm.cdf((2 * epsilon - n) / np.sqrt(n))) + n) * np.ones(10)\n",
        "  upper = (np.log2(norm.cdf((4 * epsilon - 2 - n) / np.sqrt(n))) + n) * np.ones(10)\n",
        "  return lower, upper"
      ],
      "execution_count": null,
      "outputs": []
    },
    {
      "cell_type": "code",
      "metadata": {
        "colab": {
          "base_uri": "https://localhost:8080/"
        },
        "id": "e21vze5JNmni",
        "outputId": "bd9a3358-2022-4f98-943d-df584af29aa4"
      },
      "source": [
        "print(k_estimate(1000, 1))"
      ],
      "execution_count": null,
      "outputs": [
        {
          "output_type": "stream",
          "text": [
            "(array([275.22778745, 275.22778745, 275.22778745, 275.22778745,\n",
            "       275.22778745, 275.22778745, 275.22778745, 275.22778745,\n",
            "       275.22778745, 275.22778745]), array([275.22778745, 275.22778745, 275.22778745, 275.22778745,\n",
            "       275.22778745, 275.22778745, 275.22778745, 275.22778745,\n",
            "       275.22778745, 275.22778745]))\n"
          ],
          "name": "stdout"
        }
      ]
    },
    {
      "cell_type": "code",
      "metadata": {
        "id": "SLZPcGPdlRxN"
      },
      "source": [
        "def k_estimate_lower(n, epsilon):\n",
        "  return k_estimate(n, epsilon)[0]\n",
        "\n",
        "def k_estimate_upper(n, epsilon):\n",
        "  return k_estimate(n, epsilon)[1]"
      ],
      "execution_count": null,
      "outputs": []
    },
    {
      "cell_type": "code",
      "metadata": {
        "colab": {
          "base_uri": "https://localhost:8080/",
          "height": 299
        },
        "id": "rITzN5tVkit5",
        "outputId": "a6eaafd8-8957-4a72-d912-419be6bc4e08"
      },
      "source": [
        "x = [1, 2, 3, 4, 5, 6, 7, 8, 9, 10]\n",
        "y1 = k_estimate_lower(1001, 50)\n",
        "y2 = k_estimate_upper(1001, 50)\n",
        "plt.plot(x, y1, '-', x, y2, '--')"
      ],
      "execution_count": null,
      "outputs": [
        {
          "output_type": "execute_result",
          "data": {
            "text/plain": [
              "[<matplotlib.lines.Line2D at 0x7f7f2c1c4810>,\n",
              " <matplotlib.lines.Line2D at 0x7f7f2c1c45d0>]"
            ]
          },
          "metadata": {
            "tags": []
          },
          "execution_count": 32
        },
        {
          "output_type": "display_data",
          "data": {
            "image/png": "[encoded data removed]",
            "text/plain": [
              "<Figure size 432x288 with 1 Axes>"
            ]
          },
          "metadata": {
            "tags": []
          }
        }
      ]
    },
    {
      "cell_type": "code",
      "metadata": {
        "colab": {
          "base_uri": "https://localhost:8080/",
          "height": 299
        },
        "id": "f18HDkCGnbTR",
        "outputId": "8a56f217-e3bd-4e25-974e-b72625993470"
      },
      "source": [
        "x = [1, 2, 3, 4, 5, 6, 7, 8, 9, 10]\n",
        "y1 = k_estimate_lower(100, 50)\n",
        "y2 = k_estimate_upper(100, 50)\n",
        "plt.plot(x, y1, '-', x, y2, '--')"
      ],
      "execution_count": null,
      "outputs": [
        {
          "output_type": "execute_result",
          "data": {
            "text/plain": [
              "[<matplotlib.lines.Line2D at 0x7f7f2bec0750>,\n",
              " <matplotlib.lines.Line2D at 0x7f7f2bec0950>]"
            ]
          },
          "metadata": {
            "tags": []
          },
          "execution_count": 33
        },
        {
          "output_type": "display_data",
          "data": {
            "image/png": "[encoded data removed]",
            "text/plain": [
              "<Figure size 432x288 with 1 Axes>"
            ]
          },
          "metadata": {
            "tags": []
          }
        }
      ]
    },
    {
      "cell_type": "code",
      "metadata": {
        "colab": {
          "base_uri": "https://localhost:8080/",
          "height": 299
        },
        "id": "mCVafkwwnkA5",
        "outputId": "3a0095b6-549f-4bcf-ea31-4235a32f9a07"
      },
      "source": [
        "x = [1, 2, 3, 4, 5, 6, 7, 8, 9, 10]\n",
        "y1 = k_estimate_lower(100, 1)\n",
        "y2 = k_estimate_upper(100, 1)\n",
        "plt.plot(x, y1, '-', x, y2, '--')"
      ],
      "execution_count": null,
      "outputs": [
        {
          "output_type": "execute_result",
          "data": {
            "text/plain": [
              "[<matplotlib.lines.Line2D at 0x7f7f2bea6750>,\n",
              " <matplotlib.lines.Line2D at 0x7f7f2bea6950>]"
            ]
          },
          "metadata": {
            "tags": []
          },
          "execution_count": 34
        },
        {
          "output_type": "display_data",
          "data": {
            "image/png": "[encoded data removed]",
            "text/plain": [
              "<Figure size 432x288 with 1 Axes>"
            ]
          },
          "metadata": {
            "tags": []
          }
        }
      ]
    },
    {
      "cell_type": "code",
      "metadata": {
        "colab": {
          "base_uri": "https://localhost:8080/",
          "height": 299
        },
        "id": "ornA-SFyntGI",
        "outputId": "f8046880-31e8-4a70-9678-870dec9cbaa3"
      },
      "source": [
        "x = [1, 2, 3, 4, 5, 6, 7, 8, 9, 10]\n",
        "y1 = k_estimate_lower(1000, 1)\n",
        "y2 = k_estimate_upper(1000, 1)\n",
        "plt.plot(x, y1, '-', x, y2, '--')"
      ],
      "execution_count": null,
      "outputs": [
        {
          "output_type": "execute_result",
          "data": {
            "text/plain": [
              "[<matplotlib.lines.Line2D at 0x7f7f2be0c790>,\n",
              " <matplotlib.lines.Line2D at 0x7f7f2be0c990>]"
            ]
          },
          "metadata": {
            "tags": []
          },
          "execution_count": 35
        },
        {
          "output_type": "display_data",
          "data": {
            "image/png": "[encoded data removed]",
            "text/plain": [
              "<Figure size 432x288 with 1 Axes>"
            ]
          },
          "metadata": {
            "tags": []
          }
        }
      ]
    },
    {
      "cell_type": "code",
      "metadata": {
        "id": "91FKQWE-ophz"
      },
      "source": [
        "dyn_k_lower = np.zeros(500)\n",
        "dyn_k_upper = np.zeros(500)\n",
        "for i in range(500):\n",
        "  dyn_k_lower[i] = k_estimate_lower(1000, i + 1)[0]\n",
        "  dyn_k_upper[i] = k_estimate_upper(1000, i + 1)[0]"
      ],
      "execution_count": null,
      "outputs": []
    },
    {
      "cell_type": "code",
      "metadata": {
        "colab": {
          "base_uri": "https://localhost:8080/",
          "height": 299
        },
        "id": "lAxnnxV_ubgA",
        "outputId": "4c7e3dc4-ea52-4713-cc4c-d4a4c38f1ff6"
      },
      "source": [
        "x = np.arange(1, 501)\n",
        "y1 = dyn_k_lower\n",
        "y2 = dyn_k_upper\n",
        "plt.plot(x, y1, '-', x, y2, '--')"
      ],
      "execution_count": null,
      "outputs": [
        {
          "output_type": "execute_result",
          "data": {
            "text/plain": [
              "[<matplotlib.lines.Line2D at 0x7f7f2bca4310>,\n",
              " <matplotlib.lines.Line2D at 0x7f7f2bf591d0>]"
            ]
          },
          "metadata": {
            "tags": []
          },
          "execution_count": 82
        },
        {
          "output_type": "display_data",
          "data": {
            "image/png": "[encoded data removed]",
            "text/plain": [
              "<Figure size 432x288 with 1 Axes>"
            ]
          },
          "metadata": {
            "tags": []
          }
        }
      ]
    },
    {
      "cell_type": "code",
      "metadata": {
        "id": "WEyDJmhgZi0W"
      },
      "source": [
        "def stirling_lower(n, e):\n",
        "  return np.log(e + 1) - 0.5 * np.log(2 * np.pi) + 0.5 * np.log(n) - 0.5 * np.log(n - e) - 0.5 * np.log(e) + n * entropy([e / n, (n - e) / n], base=2)\n",
        "\n",
        "def stirling_upper(n, e):\n",
        "  return - 0.5 * np.log(2 * np.pi) + 0.5 * np.log(n) - 0.5 * np.log(n - 2 * e + 1) - 0.5 * np.log(2 * e - 1) + n * entropy([(2 * e - 1) / n, (n - 2 * e + 1) / n], base=2)"
      ],
      "execution_count": null,
      "outputs": []
    },
    {
      "cell_type": "code",
      "metadata": {
        "id": "tW7AOl6Uc9G4"
      },
      "source": [
        "s_lower = np.zeros(500)\n",
        "s_upper = np.zeros(500)\n",
        "s_k = np.zeros(500)\n",
        "for i in range(500):\n",
        "  s_lower[i] = stirling_lower(1000, i + 1)\n",
        "  s_upper[i] = stirling_upper(1000, i + 1)\n",
        "  s_k[i] = 1000 - i - 1"
      ],
      "execution_count": null,
      "outputs": []
    },
    {
      "cell_type": "code",
      "metadata": {
        "colab": {
          "base_uri": "https://localhost:8080/"
        },
        "id": "NCan4XjmXXOr",
        "outputId": "0334f348-a766-465d-bf54-7cfdd2392530"
      },
      "source": [
        "s_upper"
      ],
      "execution_count": null,
      "outputs": [
        {
          "output_type": "execute_result",
          "data": {
            "text/plain": [
              "array([ 10.48931945,  27.99730942,  43.69354112,  58.28406073,\n",
              "        72.07535324,  85.23956422,  97.88720485, 110.09530328,\n",
              "       121.9206472 , 133.40684627, 144.58844729, 155.49349567,\n",
              "       166.14521396, 176.56314781, 186.76397542, 196.76209534,\n",
              "       206.57006395, 216.19892756, 225.65847928, 234.95746064,\n",
              "       244.1037222 , 253.104353  , 261.96578613, 270.69388556,\n",
              "       279.29401838, 287.77111522, 296.12972132, 304.37403991,\n",
              "       312.50796927, 320.53513469, 328.45891606, 336.2824719 ,\n",
              "       344.00876031, 351.64055739, 359.18047347, 366.63096743,\n",
              "       373.99435943, 381.27284231, 388.46849166, 395.58327497,\n",
              "       402.61905976, 409.57762099, 416.46064768, 423.26974899,\n",
              "       430.00645968, 436.67224508, 443.2685057 , 449.79658138,\n",
              "       456.25775505, 462.6532563 , 468.98426458, 475.25191214,\n",
              "       481.4572868 , 487.60143446, 493.68536144, 499.71003664,\n",
              "       505.67639357, 511.58533222, 517.4377208 , 523.23439732,\n",
              "       528.97617117, 534.66382448, 540.29811349, 545.87976974,\n",
              "       551.40950124, 556.88799358, 562.31591094, 567.69389704,\n",
              "       573.02257605, 578.30255345, 583.53441682, 588.71873658,\n",
              "       593.85606675, 598.9469456 , 603.99189625, 608.99142734,\n",
              "       613.94603357, 618.85619624, 623.72238376, 628.54505214,\n",
              "       633.32464549, 638.06159639, 642.75632637, 647.40924629,\n",
              "       652.0207567 , 656.59124822, 661.12110189, 665.61068948,\n",
              "       670.06037383, 674.47050911, 678.84144114, 683.17350766,\n",
              "       687.46703857, 691.7223562 , 695.93977554, 700.11960447,\n",
              "       704.26214398, 708.3676884 , 712.43652557, 716.46893703,\n",
              "       720.46519827, 724.4255788 , 728.35034244, 732.23974739,\n",
              "       736.09404644, 739.9134871 , 743.69831178, 747.44875787,\n",
              "       751.16505792, 754.84743979, 758.4961267 , 762.11133743,\n",
              "       765.6932864 , 769.24218379, 772.75823562, 776.24164392,\n",
              "       779.69260676, 783.1113184 , 786.49796936, 789.8527465 ,\n",
              "       793.17583314, 796.46740912, 799.7276509 , 802.95673162,\n",
              "       806.15482118, 809.32208633, 812.45869074, 815.56479505,\n",
              "       818.64055696, 821.68613128, 824.70166999, 827.68732232,\n",
              "       830.6432348 , 833.56955133, 836.46641318, 839.33395913,\n",
              "       842.17232546, 844.98164602, 847.76205229, 850.51367341,\n",
              "       853.23663622, 855.93106534, 858.59708319, 861.23481002,\n",
              "       863.84436399, 866.42586116, 868.97941558, 871.5051393 ,\n",
              "       874.00314239, 876.47353301, 878.91641744, 881.3319001 ,\n",
              "       883.72008357, 886.08106867, 888.41495443, 890.72183817,\n",
              "       893.00181552, 895.25498041, 897.48142516, 899.68124044,\n",
              "       901.85451535, 904.00133744, 906.1217927 , 908.21596561,\n",
              "       910.28393916, 912.32579487, 914.34161283, 916.33147168,\n",
              "       918.2954487 , 920.23361973, 922.14605931, 924.03284061,\n",
              "       925.89403546, 927.72971442, 929.53994675, 931.32480044,\n",
              "       933.08434224, 934.81863766, 936.52775099, 938.21174532,\n",
              "       939.87068257, 941.50462347, 943.11362761, 944.69775343,\n",
              "       946.25705824, 947.79159826, 949.30142857, 950.78660319,\n",
              "       952.24717508, 953.6831961 , 955.0947171 , 956.48178785,\n",
              "       957.84445713, 959.18277268, 960.49678126, 961.7865286 ,\n",
              "       963.05205948, 964.29341769, 965.51064605, 966.70378643,\n",
              "       967.87287977, 969.01796604, 970.13908431, 971.23627271,\n",
              "       972.30956848, 973.35900794, 974.38462651, 975.38645873,\n",
              "       976.36453826, 977.31889788, 978.24956951, 979.15658419,\n",
              "       980.03997212, 980.89976267, 981.73598432, 982.54866477,\n",
              "       983.33783083, 984.10350854, 984.84572308, 985.56449884,\n",
              "       986.25985938, 986.93182748, 987.58042508, 988.20567336,\n",
              "       988.8075927 , 989.38620268, 989.9415221 , 990.47356898,\n",
              "       990.98236057, 991.46791335, 991.930243  , 992.36936447,\n",
              "       992.78529191, 993.17803875, 993.54761763, 993.89404043,\n",
              "       994.2173183 , 994.51746162, 994.79448002, 995.04838239,\n",
              "       995.27917688, 995.48687087, 995.67147103, 995.83298324,\n",
              "       995.9714127 , 996.08676382, 996.17904028, 996.24824506,\n",
              "       996.29438034, 996.31744762, 996.31744762, 996.29438034,\n",
              "       996.24824506, 996.17904028, 996.08676382, 995.9714127 ,\n",
              "       995.83298324, 995.67147103, 995.48687087, 995.27917688,\n",
              "       995.04838239, 994.79448002, 994.51746162, 994.2173183 ,\n",
              "       993.89404043, 993.54761763, 993.17803875, 992.78529191,\n",
              "       992.36936447, 991.930243  , 991.46791335, 990.98236057,\n",
              "       990.47356898, 989.9415221 , 989.38620268, 988.8075927 ,\n",
              "       988.20567336, 987.58042508, 986.93182748, 986.25985938,\n",
              "       985.56449884, 984.84572308, 984.10350854, 983.33783083,\n",
              "       982.54866477, 981.73598432, 980.89976267, 980.03997212,\n",
              "       979.15658419, 978.24956951, 977.31889788, 976.36453826,\n",
              "       975.38645873, 974.38462651, 973.35900794, 972.30956848,\n",
              "       971.23627271, 970.13908431, 969.01796604, 967.87287977,\n",
              "       966.70378643, 965.51064605, 964.29341769, 963.05205948,\n",
              "       961.7865286 , 960.49678126, 959.18277268, 957.84445713,\n",
              "       956.48178785, 955.0947171 , 953.6831961 , 952.24717508,\n",
              "       950.78660319, 949.30142857, 947.79159826, 946.25705824,\n",
              "       944.69775343, 943.11362761, 941.50462347, 939.87068257,\n",
              "       938.21174532, 936.52775099, 934.81863766, 933.08434224,\n",
              "       931.32480044, 929.53994675, 927.72971442, 925.89403546,\n",
              "       924.03284061, 922.14605931, 920.23361973, 918.2954487 ,\n",
              "       916.33147168, 914.34161283, 912.32579487, 910.28393916,\n",
              "       908.21596561, 906.1217927 , 904.00133744, 901.85451535,\n",
              "       899.68124044, 897.48142516, 895.25498041, 893.00181552,\n",
              "       890.72183817, 888.41495443, 886.08106867, 883.72008357,\n",
              "       881.3319001 , 878.91641744, 876.47353301, 874.00314239,\n",
              "       871.5051393 , 868.97941558, 866.42586116, 863.84436399,\n",
              "       861.23481002, 858.59708319, 855.93106534, 853.23663622,\n",
              "       850.51367341, 847.76205229, 844.98164602, 842.17232546,\n",
              "       839.33395913, 836.46641318, 833.56955133, 830.6432348 ,\n",
              "       827.68732232, 824.70166999, 821.68613128, 818.64055696,\n",
              "       815.56479505, 812.45869074, 809.32208633, 806.15482118,\n",
              "       802.95673162, 799.7276509 , 796.46740912, 793.17583314,\n",
              "       789.8527465 , 786.49796936, 783.1113184 , 779.69260676,\n",
              "       776.24164392, 772.75823562, 769.24218379, 765.6932864 ,\n",
              "       762.11133743, 758.4961267 , 754.84743979, 751.16505792,\n",
              "       747.44875787, 743.69831178, 739.9134871 , 736.09404644,\n",
              "       732.23974739, 728.35034244, 724.4255788 , 720.46519827,\n",
              "       716.46893703, 712.43652557, 708.3676884 , 704.26214398,\n",
              "       700.11960447, 695.93977554, 691.7223562 , 687.46703857,\n",
              "       683.17350766, 678.84144114, 674.47050911, 670.06037383,\n",
              "       665.61068948, 661.12110189, 656.59124822, 652.0207567 ,\n",
              "       647.40924629, 642.75632637, 638.06159639, 633.32464549,\n",
              "       628.54505214, 623.72238376, 618.85619624, 613.94603357,\n",
              "       608.99142734, 603.99189625, 598.9469456 , 593.85606675,\n",
              "       588.71873658, 583.53441682, 578.30255345, 573.02257605,\n",
              "       567.69389704, 562.31591094, 556.88799358, 551.40950124,\n",
              "       545.87976974, 540.29811349, 534.66382448, 528.97617117,\n",
              "       523.23439732, 517.4377208 , 511.58533222, 505.67639357,\n",
              "       499.71003664, 493.68536144, 487.60143446, 481.4572868 ,\n",
              "       475.25191214, 468.98426458, 462.6532563 , 456.25775505,\n",
              "       449.79658138, 443.2685057 , 436.67224508, 430.00645968,\n",
              "       423.26974899, 416.46064768, 409.57762099, 402.61905976,\n",
              "       395.58327497, 388.46849166, 381.27284231, 373.99435943,\n",
              "       366.63096743, 359.18047347, 351.64055739, 344.00876031,\n",
              "       336.2824719 , 328.45891606, 320.53513469, 312.50796927,\n",
              "       304.37403991, 296.12972132, 287.77111522, 279.29401838,\n",
              "       270.69388556, 261.96578613, 253.104353  , 244.1037222 ,\n",
              "       234.95746064, 225.65847928, 216.19892756, 206.57006395,\n",
              "       196.76209534, 186.76397542, 176.56314781, 166.14521396,\n",
              "       155.49349567, 144.58844729, 133.40684627, 121.9206472 ,\n",
              "       110.09530328,  97.88720485,  85.23956422,  72.07535324,\n",
              "        58.28406073,  43.69354112,  27.99730942,  10.48931945])"
            ]
          },
          "metadata": {
            "tags": []
          },
          "execution_count": 96
        }
      ]
    },
    {
      "cell_type": "code",
      "metadata": {
        "colab": {
          "base_uri": "https://localhost:8080/",
          "height": 333
        },
        "id": "NMIPYwvjYKJ2",
        "outputId": "a581688e-4d12-4114-88f2-a6d65ec52349"
      },
      "source": [
        "x = np.arange(1, 501)\n",
        "y1 = dyn_k_lower\n",
        "y2 = dyn_k_upper\n",
        "y3 = s_lower\n",
        "y4 = s_upper\n",
        "plt.plot(x, y1, '-', x, y2, '-', x, y3, '--', x, y4, '--')"
      ],
      "execution_count": null,
      "outputs": [
        {
          "output_type": "execute_result",
          "data": {
            "text/plain": [
              "[<matplotlib.lines.Line2D at 0x7f7f2b95f150>,\n",
              " <matplotlib.lines.Line2D at 0x7f7f2b95f350>,\n",
              " <matplotlib.lines.Line2D at 0x7f7f2b95f510>,\n",
              " <matplotlib.lines.Line2D at 0x7f7f2b95f6d0>]"
            ]
          },
          "metadata": {
            "tags": []
          },
          "execution_count": 85
        },
        {
          "output_type": "display_data",
          "data": {
            "image/png": "[encoded data removed]",
            "text/plain": [
              "<Figure size 432x288 with 1 Axes>"
            ]
          },
          "metadata": {
            "tags": []
          }
        }
      ]
    },
    {
      "cell_type": "code",
      "metadata": {
        "colab": {
          "base_uri": "https://localhost:8080/"
        },
        "id": "RyE3uF7edmN1",
        "outputId": "34e03419-a0ce-4f64-c5f0-6c0def32b7f2"
      },
      "source": [
        "combin = []\n",
        "combin.append(1)\n",
        "for i in range(50):\n",
        "  a = comb(1000, i, exact=True)\n",
        "  for j in range(1, i):\n",
        "      combin.append(combin[j - 1] + a)\n",
        "\n",
        "print(combin[50])"
      ],
      "execution_count": null,
      "outputs": [
        {
          "output_type": "stream",
          "text": [
            "23706860441577360572040751\n"
          ],
          "name": "stdout"
        }
      ]
    },
    {
      "cell_type": "code",
      "metadata": {
        "colab": {
          "base_uri": "https://localhost:8080/"
        },
        "id": "W6qnHAtfdVN0",
        "outputId": "45d30c2c-24da-460e-eacc-fdd291810f59"
      },
      "source": [
        "norm.cdf(-10 * np.sqrt(10))"
      ],
      "execution_count": null,
      "outputs": [
        {
          "output_type": "execute_result",
          "data": {
            "text/plain": [
              "8.979163924001585e-220"
            ]
          },
          "metadata": {
            "tags": []
          },
          "execution_count": 2
        }
      ]
    },
    {
      "cell_type": "code",
      "metadata": {
        "colab": {
          "base_uri": "https://localhost:8080/"
        },
        "id": "yOVpeo7Xi1J5",
        "outputId": "92ccfb25-bde3-4517-e382-8e846e641128"
      },
      "source": [
        "norm.cdf(-12 * np.sqrt(10))"
      ],
      "execution_count": null,
      "outputs": [
        {
          "output_type": "execute_result",
          "data": {
            "text/plain": [
              "0.0"
            ]
          },
          "metadata": {
            "tags": []
          },
          "execution_count": 23
        }
      ]
    },
    {
      "cell_type": "code",
      "metadata": {
        "colab": {
          "base_uri": "https://localhost:8080/"
        },
        "id": "AmsWyg-UdJtd",
        "outputId": "c8639a2c-a641-4b5d-f811-0fb3475248ac"
      },
      "source": [
        "np.log2(norm.cdf(-10 * np.sqrt(10)))"
      ],
      "execution_count": null,
      "outputs": [
        {
          "output_type": "execute_result",
          "data": {
            "text/plain": [
              "-727.6575997575196"
            ]
          },
          "metadata": {
            "tags": []
          },
          "execution_count": 4
        }
      ]
    },
    {
      "cell_type": "code",
      "metadata": {
        "colab": {
          "base_uri": "https://localhost:8080/"
        },
        "id": "si-IqXjVfxjb",
        "outputId": "5c4ec0f8-ac67-47e0-9175-5eb873148ce3"
      },
      "source": [
        "-220 * np.log2(10) + np.log2(8.979163924001585)"
      ],
      "execution_count": null,
      "outputs": [
        {
          "output_type": "execute_result",
          "data": {
            "text/plain": [
              "-727.6575997575195"
            ]
          },
          "metadata": {
            "tags": []
          },
          "execution_count": 6
        }
      ]
    },
    {
      "cell_type": "code",
      "metadata": {
        "colab": {
          "base_uri": "https://localhost:8080/"
        },
        "id": "WTmwLRjXle1_",
        "outputId": "e4275abe-e966-4e0d-e407-e25a8939c297"
      },
      "source": [
        "np.log2(101)"
      ],
      "execution_count": null,
      "outputs": [
        {
          "output_type": "execute_result",
          "data": {
            "text/plain": [
              "6.658211482751795"
            ]
          },
          "metadata": {
            "tags": []
          },
          "execution_count": 26
        }
      ]
    }
  ]
}